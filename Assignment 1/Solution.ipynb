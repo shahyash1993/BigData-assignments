{
 "cells": [
  {
   "cell_type": "code",
   "execution_count": 0,
   "metadata": {},
   "outputs": [],
   "source": [
    "/* Name:Yash Shah */"
   ]
  },
  {
   "cell_type": "code",
   "execution_count": 1,
   "metadata": {},
   "outputs": [
    {
     "data": {
      "text/plain": [
       "\u001b[32mimport \u001b[39m\u001b[36mscala.util.control.Breaks._\r\n",
       "\r\n",
       "\u001b[39m\r\n",
       "defined \u001b[32mobject\u001b[39m \u001b[36mProblem1\u001b[39m"
      ]
     },
     "execution_count": 1,
     "metadata": {},
     "output_type": "execute_result"
    }
   ],
   "source": [
    "/*If we list all the natural numbers below 20 that are multiples of 3 or 5 but not multiples both\n",
    "  of 3 and 5, we get 3, 5, 6, 9, 10, 12, 18. The sum of these multiples is 63. Write a function,\n",
    "  sum_multiples_3_5, that returns the sum of the multiples of 3 and 5 less than N.\n",
    "  */\n",
    "\n",
    "import scala.util.control.Breaks._\n",
    "\n",
    "object Problem1 {\n",
    "  def main(arg: Array[String]) {\n",
    "    println(\"start!\")\n",
    "    val sum: Int = sum_multiples_3_5(20)\n",
    "    println(\"Sum: \" + sum)\n",
    "  }\n",
    "\n",
    "  def sum_multiples_3_5(n: Int): Int = {\n",
    "\n",
    "    var sum: Int = 0\n",
    "    if (n < 0) {\n",
    "      println(\"Error! Number is negative!\")\n",
    "      System.exit(1)\n",
    "    }\n",
    "\n",
    "    for (i <- 1 until n) {\n",
    "      if (i % 3 == 0) { //if the number is multiple of 3 only\n",
    "        if (i % 5 != 0) { //if the number is multiple of both\n",
    "          sum = sum + i\n",
    "        }\n",
    "      }\n",
    "      else if (i % 5 == 0) {  //if the number is multiple of 5 only\n",
    "        sum = sum + i\n",
    "      }\n",
    "    } //for\n",
    "    sum\n",
    "\n",
    "  } //main\n",
    "}\n",
    "\n",
    "//object"
   ]
  },
  {
   "cell_type": "code",
   "execution_count": 7,
   "metadata": {},
   "outputs": [
    {
     "name": "stdout",
     "output_type": "stream",
     "text": [
      "start!\n",
      "Sum: 63\n"
     ]
    }
   ],
   "source": [
    "Problem1.main(null)"
   ]
  },
  {
   "cell_type": "code",
   "execution_count": 3,
   "metadata": {},
   "outputs": [
    {
     "data": {
      "text/plain": [
       "defined \u001b[32mobject\u001b[39m \u001b[36mProblem2\u001b[39m"
      ]
     },
     "execution_count": 3,
     "metadata": {},
     "output_type": "execute_result"
    }
   ],
   "source": [
    "/*Write a function, patternCount with two arguments. The first arguments is a string, lets call\n",
    "  it text, and the second argument is also a string, call it pattern. The function patternCount\n",
    "  returns the number of times the pattern occurs in the text. For example\n",
    "  pattern_count(“abababa”, “aba”) == 3\n",
    "  pattern_count(“aaaaa”, “aa”) == 4\n",
    "  pattern_count(“Abcde”, “abc”) == 0\n",
    "  */\n",
    "\n",
    "object Problem2 {\n",
    "  def main(arg: Array[String]) {\n",
    "    println(\"Start!\")\n",
    "    val count: Int = pattern_count(\"aaaaa\", \"aa\")\n",
    "    println(\"Count: \" + count)\n",
    "\n",
    "  } //main\n",
    "\n",
    "  def pattern_count(text: String, pattern: String): Int = {\n",
    "    var lastIndex: Int = 0\n",
    "    var count: Int = 0\n",
    "\n",
    "    while (lastIndex != -1) { //cursor moves on till the end of string\n",
    "      lastIndex = text.indexOf(pattern, lastIndex)\n",
    "\n",
    "      if (lastIndex != -1) {\n",
    "        count = count + 1\n",
    "        lastIndex = lastIndex + 1\n",
    "      }\n",
    "    }\n",
    "    count\n",
    "  } //def\n",
    "}\n",
    "\n",
    "//obj\n"
   ]
  },
  {
   "cell_type": "code",
   "execution_count": 4,
   "metadata": {},
   "outputs": [
    {
     "name": "stdout",
     "output_type": "stream",
     "text": [
      "Start!\n",
      "Count: 4\n"
     ]
    }
   ],
   "source": [
    "Problem2.main(null)"
   ]
  },
  {
   "cell_type": "code",
   "execution_count": 5,
   "metadata": {},
   "outputs": [
    {
     "data": {
      "text/plain": [
       "defined \u001b[32mobject\u001b[39m \u001b[36mProblem3\u001b[39m"
      ]
     },
     "execution_count": 5,
     "metadata": {},
     "output_type": "execute_result"
    }
   ],
   "source": [
    "/*\n",
    "* Write a function product(s : String) that returns the product of the Unicode codes of all letters\n",
    "in string s without using a loop.\n",
    "* */\n",
    "\n",
    "object Problem3 {\n",
    "  def main(args: Array[String]): Unit = {\n",
    "    println(\"Start!\")\n",
    "    var result: Long = product(\"abc\")\n",
    "    println(\"Product is  \" + result)\n",
    "  }\n",
    "\n",
    "  def product(s: String): Long = {\n",
    "    s.foldLeft(1L)(_ * _.toInt) //It multiplies the hex unicodes first, and converts them back to decimals afterwards\n",
    "  } //def\n",
    "}\n",
    "\n",
    "//obj\n"
   ]
  },
  {
   "cell_type": "code",
   "execution_count": 6,
   "metadata": {},
   "outputs": [
    {
     "name": "stdout",
     "output_type": "stream",
     "text": [
      "Start!\n",
      "Product is  941094\n"
     ]
    }
   ],
   "source": [
    "Problem3.main(null)"
   ]
  },
  {
   "cell_type": "code",
   "execution_count": 8,
   "metadata": {},
   "outputs": [
    {
     "data": {
      "text/plain": [
       "defined \u001b[32mobject\u001b[39m \u001b[36mProblem4\u001b[39m"
      ]
     },
     "execution_count": 8,
     "metadata": {},
     "output_type": "execute_result"
    }
   ],
   "source": [
    "/*\n",
    "* Write a function noDuplicates(ints : Array[Int]) that returns an array all values from the array\n",
    "ints with duplicates removed.\n",
    "*/\n",
    "\n",
    "object Problem4 {\n",
    "  def main(args: Array[String]): Unit = {\n",
    "    var arr: Array[Int] = Array(1, 1, 2, 2, 3, 3, 3, 4, 4, 4, 5)\n",
    "    println(\"Start!\")\n",
    "    arr = noDuplicates(arr)\n",
    "    for (i <- arr) {\n",
    "      print(i + \" \")\n",
    "    }\n",
    "  }\n",
    "\n",
    "  def noDuplicates(ints: Array[Int]): Array[Int] = {\n",
    "    ints.toSet.toArray\n",
    "  } //def\n",
    "}\n",
    "\n",
    "//obj\n"
   ]
  },
  {
   "cell_type": "code",
   "execution_count": 9,
   "metadata": {},
   "outputs": [
    {
     "name": "stdout",
     "output_type": "stream",
     "text": [
      "Start!\n",
      "Product is  941094\n"
     ]
    }
   ],
   "source": [
    "Problem3.main(null)"
   ]
  },
  {
   "cell_type": "code",
   "execution_count": 10,
   "metadata": {},
   "outputs": [
    {
     "data": {
      "text/plain": [
       "defined \u001b[32mobject\u001b[39m \u001b[36mProblem5\u001b[39m"
      ]
     },
     "execution_count": 10,
     "metadata": {},
     "output_type": "execute_result"
    }
   ],
   "source": [
    "/*\n",
    "* Create an array that contains the value 0.00001f repeated 1000000 times. Sum up all the\n",
    "elements of the array. What is the result? How big is the error?\n",
    "*/\n",
    "\n",
    "object Problem5 {\n",
    "  def main(args: Array[String]): Unit = {\n",
    "    var arr = new Array[Float](1000000)\n",
    "    for (i <- 0 until 1000000) {\n",
    "      arr(i) = 0.00001f\n",
    "    }//value inserted in Array\n",
    "\n",
    "    var sum: Float = 0f\n",
    "    for (i <- 0 until 1000000) {\n",
    "      sum = sum + arr(i)\n",
    "    }//sum calculated\n",
    "\n",
    "    println(\"Sum: \" + sum)\n",
    "\n",
    "    /*output:\n",
    "     Program Sum: 9.917345\n",
    "     Actual Sum: 10\n",
    "     Error: 10 - 9.917345 = 0.082655\n",
    "    */\n",
    "  } //main\n",
    "}\n",
    "\n",
    "//obj\n"
   ]
  },
  {
   "cell_type": "code",
   "execution_count": 11,
   "metadata": {},
   "outputs": [
    {
     "name": "stdout",
     "output_type": "stream",
     "text": [
      "Sum: 9.917345\n"
     ]
    }
   ],
   "source": [
    "Problem5.main(null)"
   ]
  },
  {
   "cell_type": "code",
   "execution_count": 12,
   "metadata": {},
   "outputs": [
    {
     "data": {
      "text/plain": [
       "defined \u001b[32mobject\u001b[39m \u001b[36mProblem6\u001b[39m"
      ]
     },
     "execution_count": 12,
     "metadata": {},
     "output_type": "execute_result"
    }
   ],
   "source": [
    "/*\n",
    "* Using Scala compute the sums 0.0001f + 8000.0f and 0.000000001 + 90000000. What is\n",
    "the result? How big is the error?\n",
    "*/\n",
    "\n",
    "object Problem6 {\n",
    "  def main(args: Array[String]): Unit = {\n",
    "    var sum = 0.0001f + 8000.0f + 0.000000001 + 90000000\n",
    "    println(\"Sum: \" + sum)\n",
    "    /*\n",
    "    Program sum: 9.0008E7\n",
    "    Sum should be: 90008000.000100001\n",
    "    Error: 90008000.000100001 - 90008000 = 0.000100001\n",
    "     */\n",
    "  } //def\n",
    "}\n",
    "\n",
    "//obj\n"
   ]
  },
  {
   "cell_type": "code",
   "execution_count": 13,
   "metadata": {},
   "outputs": [
    {
     "name": "stdout",
     "output_type": "stream",
     "text": [
      "Sum: 9.0008E7\n"
     ]
    }
   ],
   "source": [
    "Problem6.main(null)"
   ]
  },
  {
   "cell_type": "code",
   "execution_count": 14,
   "metadata": {},
   "outputs": [
    {
     "data": {
      "text/plain": [
       "defined \u001b[32mobject\u001b[39m \u001b[36mProblem7\u001b[39m"
      ]
     },
     "execution_count": 14,
     "metadata": {},
     "output_type": "execute_result"
    }
   ],
   "source": [
    "/*\n",
    "Write a function randomInts(n:Int, range:Int) that returns an array of n integers all between\n",
    "0 and range\n",
    " */\n",
    "\n",
    "object Problem7 {\n",
    "  def main(args: Array[String]): Unit = {\n",
    "    println(\"Start!\")\n",
    "    var arr: Array[Int] = randomInts(10, 100)\n",
    "    for (i <- arr) {\n",
    "      print(i + \" \")\n",
    "    }\n",
    "  }\n",
    "\n",
    "  def randomInts(n: Int, range: Int): Array[Int] = {\n",
    "    val r = scala.util.Random\n",
    "    var randoms = new Array[Int](n)\n",
    "    for (i <- 0 until n) {\n",
    "      randoms(i) = r.nextInt(range) //generates random number in specific range specified by 'range'\n",
    "    }\n",
    "    randoms\n",
    "  } //def\n",
    "}\n",
    "\n",
    "//obj\n"
   ]
  },
  {
   "cell_type": "code",
   "execution_count": 15,
   "metadata": {},
   "outputs": [
    {
     "name": "stdout",
     "output_type": "stream",
     "text": [
      "Start!\n",
      "99 52 74 46 63 6 32 54 55 91 "
     ]
    }
   ],
   "source": [
    "Problem7.main(null)"
   ]
  },
  {
   "cell_type": "code",
   "execution_count": 16,
   "metadata": {},
   "outputs": [
    {
     "data": {
      "text/plain": [
       "\u001b[32mimport \u001b[39m\u001b[36mjava.io._\r\n",
       "\u001b[39m\r\n",
       "\u001b[32mimport \u001b[39m\u001b[36mscala.io.Source\r\n",
       "\r\n",
       "\u001b[39m\r\n",
       "defined \u001b[32mobject\u001b[39m \u001b[36mProblem8\u001b[39m"
      ]
     },
     "execution_count": 16,
     "metadata": {},
     "output_type": "execute_result"
    }
   ],
   "source": [
    "/*\n",
    "* Create three files with random integers in the range 0 to Int.MaxValue/2. The first file contains\n",
    "1,000 integers, the second 100,000 integers, the third 10,000,000 integers. Write\n",
    "scala code to find the average and median value for each file. What are the average and\n",
    "median value for each file? How long does it take compute those values for each file?\n",
    "* */\n",
    "\n",
    "import java.io._\n",
    "import scala.io.Source\n",
    "\n",
    "object Problem8 {\n",
    "  def main(args: Array[String]): Unit = {\n",
    "\n",
    "    var r = scala.util.Random\n",
    "\n",
    "    var range: Int = Int.MaxValue / 2\n",
    "    val file1_size: Int = 1000\n",
    "    val file2_size: Int = 100000\n",
    "    val file3_size: Int = 10000000\n",
    "\n",
    "    /*    var range: Int = 10\n",
    "        val file1_size: Int = 5\n",
    "        val file2_size: Int = 5\n",
    "        val file3_size: Int = 5*/\n",
    "\n",
    "    val file1_arr = new Array[Int](file1_size)\n",
    "    val file2_arr = new Array[Int](file2_size)\n",
    "    val file3_arr = new Array[Int](file3_size)\n",
    "\n",
    "    val file1_name: String = \"File1.txt\"\n",
    "    val file2_name: String = \"File2.txt\"\n",
    "    val file3_name: String = \"File3.txt\"\n",
    "\n",
    "    //create files\n",
    "    val file1_obj = new File(file1_name)\n",
    "    val file2_obj = new File(file2_name)\n",
    "    val file3_obj = new File(file3_name)\n",
    "\n",
    "    val printWriter_file1 = new PrintWriter(file1_obj)\n",
    "    val printWriter_file2 = new PrintWriter(file2_obj)\n",
    "    val printWriter_file3 = new PrintWriter(file3_obj)\n",
    "\n",
    "    //inserting in files...\n",
    "    //file1\n",
    "    for (i <- 0 until file1_size) {\n",
    "      printWriter_file1.write(r.nextInt(range).toString + \"\\n\")\n",
    "    }\n",
    "\n",
    "    //file2\n",
    "    for (i <- 0 until file2_size) {\n",
    "      printWriter_file2.write(r.nextInt(range).toString + \"\\n\")\n",
    "    }\n",
    "\n",
    "    //file3\n",
    "    for (i <- 0 until file3_size) {\n",
    "      printWriter_file3.write(r.nextInt(range).toString + \"\\n\")\n",
    "    }\n",
    "\n",
    "    //closing..\n",
    "    printWriter_file1.close()\n",
    "    printWriter_file2.close()\n",
    "    printWriter_file3.close()\n",
    "\n",
    "    //reading files...\n",
    "    val source_file1 = Source.fromFile(file1_name)\n",
    "    val source_file2 = Source.fromFile(file2_name)\n",
    "    val source_file3 = Source.fromFile(file3_name)\n",
    "\n",
    "    //file1\n",
    "    var count: Int = 0\n",
    "    for (line <- source_file1.getLines()) {\n",
    "      file1_arr(count) = line.toInt\n",
    "      count = count + 1\n",
    "    }\n",
    "\n",
    "    //file2\n",
    "    count = 0\n",
    "    for (line <- source_file2.getLines()) {\n",
    "      file2_arr(count) = line.toInt\n",
    "      count = count + 1\n",
    "    }\n",
    "\n",
    "    //file3\n",
    "    count = 0\n",
    "    for (line <- source_file3.getLines()) {\n",
    "      file3_arr(count) = line.toInt\n",
    "      count = count + 1\n",
    "    }\n",
    "\n",
    "    //writin on screen...\n",
    "    /*//temp\n",
    "    println(\"file1:>\")\n",
    "    for(i<-file1_arr){\n",
    "      println(\">\"+i)\n",
    "    }\n",
    "    println(\"file2:>\")\n",
    "    for(i<-file2_arr){\n",
    "      println(\">\"+i)\n",
    "    }\n",
    "    println(\"file3:>\")\n",
    "    for(i<-file3_arr){\n",
    "      println(\">\"+i)\n",
    "    }*/\n",
    "\n",
    "    //closing..\n",
    "    source_file1.close()\n",
    "    source_file2.close()\n",
    "    source_file3.close()\n",
    "\n",
    "    //calculate avg & median\n",
    "    var avg_file1: Double = 0\n",
    "    var avg_file2: Double = 0\n",
    "    var avg_file3: Double = 0\n",
    "\n",
    "    var sum_file1: Double = 0\n",
    "    var sum_file2: Double = 0\n",
    "    var sum_file3: Double = 0\n",
    "\n",
    "    for (i <- file3_arr) {\n",
    "      sum_file3 += i\n",
    "    }\n",
    "\n",
    "    //file1\n",
    "    var startTime = System.nanoTime() //gets the current time in nano\n",
    "\n",
    "    for (i <- file1_arr) {\n",
    "      sum_file1 += i\n",
    "    }\n",
    "\n",
    "    avg_file1 = sum_file1 / file1_size\n",
    "    val median_file1 = file1_arr.sortWith(_ < _).drop(file1_arr.length / 2).head\n",
    "    var duration = (System.nanoTime() - startTime) / 1e9d //calculates the difference\n",
    "\n",
    "    println(\"file1: runtime: \" + duration)\n",
    "\n",
    "    //file2\n",
    "    startTime = System.nanoTime()\n",
    "\n",
    "    for (i <- file2_arr) {\n",
    "      sum_file2 += i\n",
    "    }\n",
    "\n",
    "    avg_file2 = sum_file2 / file2_size\n",
    "    val median_file2 = file2_arr.sortWith(_ < _).drop(file2_arr.length / 2).head\n",
    "    duration = (System.nanoTime() - startTime) / 1e9d\n",
    "\n",
    "    println(\"file2: runtime: \" + duration)\n",
    "\n",
    "    //file3\n",
    "    startTime = System.nanoTime()\n",
    "\n",
    "    for (i <- file1_arr) {\n",
    "      sum_file1 += i\n",
    "    }\n",
    "\n",
    "    avg_file3 = sum_file3 / file3_size\n",
    "    val median_file3 = file3_arr.sortWith(_ < _).drop(file3_arr.length / 2).head\n",
    "    duration = (System.nanoTime() - startTime) / 1e9d\n",
    "\n",
    "    println(\"file3: runtime: \" + duration)\n",
    "\n",
    "\n",
    "    println(\"avg1: \" + avg_file1)\n",
    "    println(\"avg2: \" + avg_file2)\n",
    "    println(\"avg3: \" + avg_file3)\n",
    "\n",
    "    println(\"med1: \" + median_file1)\n",
    "    println(\"med2: \" + median_file2)\n",
    "    println(\"med3: \" + median_file3)\n",
    "  } //main\n",
    "}\n",
    "\n",
    "//obj\n"
   ]
  },
  {
   "cell_type": "code",
   "execution_count": 17,
   "metadata": {},
   "outputs": [
    {
     "name": "stdout",
     "output_type": "stream",
     "text": [
      "file1: runtime: 0.005189784\n",
      "file2: runtime: 0.142082186\n",
      "file3: runtime: 13.935189842\n",
      "avg1: 5.34365648159E8\n",
      "avg2: 5.3802022444212E8\n",
      "avg3: 5.367819268614073E8\n",
      "med1: 533652901\n",
      "med2: 537967847\n",
      "med3: 536781180\n"
     ]
    }
   ],
   "source": [
    "Problem8.main(null)"
   ]
  },
  {
   "cell_type": "code",
   "execution_count": 18,
   "metadata": {},
   "outputs": [
    {
     "data": {
      "text/plain": [
       "defined \u001b[32mobject\u001b[39m \u001b[36mProblem9\u001b[39m"
      ]
     },
     "execution_count": 18,
     "metadata": {},
     "output_type": "execute_result"
    }
   ],
   "source": [
    "/*\n",
    "* Write a function minmax(values: Array[Int]) that returns a pair containing the smallest and\n",
    "the largest values in the array.\n",
    "* */\n",
    "\n",
    "object Problem9 {\n",
    "  def main(args: Array[String]): Unit = {\n",
    "    println(\"Start\")\n",
    "    var arr: Array[Int] = Array(3, 5, 2, 1, 4)\n",
    "    var result: Tuple2[Int, Int] = minmax(arr)\n",
    "    println(result)\n",
    "  }\n",
    "\n",
    "  def minmax(values: Array[Int]): Tuple2[Int, Int] = {\n",
    "    var min: Int = values(0)\n",
    "    var max: Int = values(0)\n",
    "\n",
    "    for (i <- 1 until values.size - 1) {\n",
    "      if (values(i) > max) {//if greater than max, changed\n",
    "        max = values(i)\n",
    "      }\n",
    "      if (values(i) < min) {//if smaller than min, changed\n",
    "        min = values(i)\n",
    "      }\n",
    "    } //for\n",
    "    var tuple2 = (min, max)\n",
    "    tuple2\n",
    "  } //def\n",
    "}\n",
    "\n",
    "//obj\n"
   ]
  },
  {
   "cell_type": "code",
   "execution_count": 19,
   "metadata": {},
   "outputs": [
    {
     "name": "stdout",
     "output_type": "stream",
     "text": [
      "Start\n",
      "(1,5)\n"
     ]
    }
   ],
   "source": [
    "Problem9.main(null)"
   ]
  },
  {
   "cell_type": "code",
   "execution_count": 20,
   "metadata": {},
   "outputs": [
    {
     "data": {
      "text/plain": [
       "defined \u001b[32mobject\u001b[39m \u001b[36mProblem_10\u001b[39m\r\n",
       "defined \u001b[32mclass\u001b[39m \u001b[36mCar\u001b[39m"
      ]
     },
     "execution_count": 20,
     "metadata": {},
     "output_type": "execute_result"
    }
   ],
   "source": [
    "/*\n",
    "* Make a class Car with read-only properties for manufacturer, model name, and model year,\n",
    "and a read-write property for the license plate. Supply four constructors. All require the\n",
    "manufacturer and model name. Optionally, model year and license plate can also be specified\n",
    "in the constructor. If not, the model year is set to -1 and the license plate to the empty\n",
    "string. Which constructor are you choosing as the primary constructor? Why?\n",
    "* */\n",
    "\n",
    "object Problem_10 {\n",
    "  def main(args: Array[String]): Unit = {\n",
    "    println(\"Start!\")\n",
    "\n",
    "    var car_obj1 = new Car(\"aa\", \"bb\", 1, \"cc\")\n",
    "    car_obj1.print()\n",
    "\n",
    "    var car_obj2 = new Car(\"dd\", \"ee\", \"ff\")\n",
    "    car_obj2.print()\n",
    "\n",
    "    var car_obj3 = new Car(\"gg\", \"hh\", 9)\n",
    "    car_obj3.print()\n",
    "  }\n",
    "}\n",
    "\n",
    "class Car(val manufacturer: String, val modelName: String, val modelYear: Int, var licensePlate: String) {\n",
    "  //primary constructor\n",
    "  /*\n",
    "     This constructor is defined as a primary constructor because it contains all the four data members and also\n",
    "     other constructors can pass on default values for members that were not given values for\n",
    "  */\n",
    "\n",
    "  def this(manufacturer: String, modelName: String, modelYear: Int) = {\n",
    "    //constructor2\n",
    "    this(manufacturer, modelName, modelYear, \"\")\n",
    "  }\n",
    "\n",
    "  def this(manufacturer: String, modelName: String, licensePlate: String) = {\n",
    "    //constructor3\n",
    "    this(manufacturer, modelName, -1, licensePlate)\n",
    "  }\n",
    "\n",
    "  def this(manufacturer: String, modelName: String) = {\n",
    "    //constructor4\n",
    "    this(manufacturer, modelName, -1, \"\")\n",
    "  }\n",
    "\n",
    "  def print() {\n",
    "    println(\"manufacturer: \" + manufacturer + \" | modelName: \" + modelName + \" | modelYear: \" + modelYear + \" | licensePlate: \" + licensePlate)\n",
    "  }\n",
    "}"
   ]
  },
  {
   "cell_type": "code",
   "execution_count": 21,
   "metadata": {},
   "outputs": [
    {
     "name": "stdout",
     "output_type": "stream",
     "text": [
      "Start!\n",
      "manufacturer: aa | modelName: bb | modelYear: 1 | licensePlate: cc\n",
      "manufacturer: dd | modelName: ee | modelYear: -1 | licensePlate: ff\n",
      "manufacturer: gg | modelName: hh | modelYear: 9 | licensePlate: \n"
     ]
    }
   ],
   "source": [
    "Problem_10.main(null)"
   ]
  },
  {
   "cell_type": "code",
   "execution_count": null,
   "metadata": {
    "collapsed": true
   },
   "outputs": [],
   "source": []
  }
 ],
 "metadata": {
  "kernelspec": {
   "display_name": "Scala (develop)",
   "language": "scala",
   "name": "scala-develop"
  },
  "language_info": {
   "codemirror_mode": "text/x-scala",
   "file_extension": ".scala",
   "mimetype": "text/x-scala",
   "name": "scala211",
   "nbconvert_exporter": "script",
   "pygments_lexer": "scala",
   "version": "2.11.11"
  }
 },
 "nbformat": 4,
 "nbformat_minor": 2
}
