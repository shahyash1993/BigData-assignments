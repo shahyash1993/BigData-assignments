{
 "cells": [
  {
   "cell_type": "code",
   "execution_count": 1,
   "metadata": {},
   "outputs": [
    {
     "data": {
      "text/plain": [
       "defined \u001b[32mobject\u001b[39m \u001b[36mProblem_21\u001b[39m"
      ]
     },
     "execution_count": 1,
     "metadata": {},
     "output_type": "execute_result"
    }
   ],
   "source": [
    "/*\n",
    "*\n",
    "* If we list all the natural numbers below 20 that are multiples of 3 or 5 but not multiples both\n",
    "of 3 and 5, we get 3, 5, 6, 9, 10, 12, 18. The sum of these multiples is 63. Write a function,\n",
    "sum_multiples_3_5, that returns the sum of the multiples of 3 and 5 but not both less than\n",
    "N.\n",
    "*\n",
    "* */\n",
    "object Problem_21{\n",
    "\n",
    "  //test cases\n",
    "    assert(sum_multiples_3_5(20)==63)\n",
    "    assert(sum_multiples_3_5(0)==0)\n",
    "    assert(sum_multiples_3_5(-10)==(-1))\n",
    "\n",
    "\n",
    "  def main(arg: Array[String]) {\n",
    "    println(\"start!\")\n",
    "    val n:Int = 20\n",
    "    val sum: Int = sum_multiples_3_5(n)\n",
    "    println(\"Sum: \" + sum)\n",
    "  }\n",
    "\n",
    "  def isValid(i:Int):Boolean ={\n",
    "    if(i%3==0){\n",
    "      if(i%5!=0) {\n",
    "        true\n",
    "      }\n",
    "      else{\n",
    "        false\n",
    "      }\n",
    "    }\n",
    "    else if(i%5==0){\n",
    "      true\n",
    "    }\n",
    "    else{\n",
    "      false\n",
    "    }\n",
    "  }\n",
    "\n",
    "  def sum_multiples_3_5(n: Int): Int = {\n",
    "    if(n<0){\n",
    "      print(\"negative n given!\")\n",
    "      return -1\n",
    "    }\n",
    "\n",
    "    val numArr = (1 until n).toArray\n",
    "    val modifiedNum = numArr.filter(isValid)    //checking whether the number satisfies the condition or not\n",
    "    println(modifiedNum.mkString(\"<\",\", \",\">\"))\n",
    "    val sum:Int = modifiedNum.sum               //summation of the whole array\n",
    "    sum\n",
    "  } //main End\n",
    "}//object End\n"
   ]
  },
  {
   "cell_type": "code",
   "execution_count": 6,
   "metadata": {},
   "outputs": [
    {
     "name": "stdout",
     "output_type": "stream",
     "text": [
      "<3, 5, 6, 9, 10, 12, 18>\n"
     ]
    },
    {
     "data": {
      "text/plain": [
       "\u001b[36mres5\u001b[39m: \u001b[32mInt\u001b[39m = \u001b[32m63\u001b[39m"
      ]
     },
     "execution_count": 6,
     "metadata": {},
     "output_type": "execute_result"
    }
   ],
   "source": [
    "Problem_21.sum_multiples_3_5(20)"
   ]
  },
  {
   "cell_type": "code",
   "execution_count": 9,
   "metadata": {},
   "outputs": [
    {
     "data": {
      "text/plain": [
       "defined \u001b[32mobject\u001b[39m \u001b[36mProblem_22\u001b[39m"
      ]
     },
     "execution_count": 9,
     "metadata": {},
     "output_type": "execute_result"
    }
   ],
   "source": [
    "/*\n",
    "*\n",
    "* 2. Write a function, pattern_count with two arguments. The first arguments is a string, lets call\n",
    "it text, and the second argument is also a string, call it pattern. The function pattern_count\n",
    "returns the number of times the pattern occurs in the text. For example\n",
    "pattern_count(“abababa”, “aba”) == 3\n",
    "pattern_count(“aaaaa”, “aa”) == 4\n",
    "pattern_count(“Abcde”, “abc”) == 0\n",
    "*\n",
    "* */\n",
    "\n",
    "object Problem_22 {\n",
    "\n",
    "  //test cases\n",
    "  assert(pattern_count(\"abababa\",\"aba\")==3)\n",
    "  assert(pattern_count(\"aaaaa\", \"aa\")==4)\n",
    "  assert(pattern_count(\"Abcde\", \"abc\") == 0)\n",
    "  assert(pattern_count(\"\",\"\") == -1)\n",
    "  assert(pattern_count(\"aaa\",\"\") == -1)\n",
    "  assert(pattern_count(\"\",\"aaa\") == -1)\n",
    "\n",
    "  def main(arg: Array[String]) {\n",
    "    println(\"Start!\")\n",
    "    val text:String = \"aaaaa\"\n",
    "    val pattern:String = \"aa\"\n",
    "\n",
    "    val count: Int = pattern_count(text,pattern) //3 should be the answer\n",
    "    println(\"Count: \" + count)\n",
    "  } //main\n",
    "\n",
    "  def pattern_count(text: String, pattern: String):Int= {\n",
    "    if(text.length<pattern.length || text.length == 0 || pattern.length==0){    //Testing edge conditions\n",
    "      -1\n",
    "    }\n",
    "    else{\n",
    "      text.sliding(pattern.length).count(_==pattern)\n",
    "    }\n",
    "  } //end of def\n",
    "}//end of obj\n"
   ]
  },
  {
   "cell_type": "code",
   "execution_count": 10,
   "metadata": {},
   "outputs": [
    {
     "data": {
      "text/plain": [
       "\u001b[36mres9\u001b[39m: \u001b[32mInt\u001b[39m = \u001b[32m4\u001b[39m"
      ]
     },
     "execution_count": 10,
     "metadata": {},
     "output_type": "execute_result"
    }
   ],
   "source": [
    "Problem_22.pattern_count(\"aaaaa\",\"aa\")"
   ]
  },
  {
   "cell_type": "code",
   "execution_count": 11,
   "metadata": {},
   "outputs": [
    {
     "data": {
      "text/plain": [
       "defined \u001b[32mobject\u001b[39m \u001b[36mProblem_23\u001b[39m"
      ]
     },
     "execution_count": 11,
     "metadata": {},
     "output_type": "execute_result"
    }
   ],
   "source": [
    "/*\n",
    "*\n",
    "* 3. Implement factorial using “to” and “reduceLeft” without a loop or recursion.\n",
    "*\n",
    "* */\n",
    "\n",
    "object Problem_23 {\n",
    "\n",
    "  //test cases\n",
    "  assert(factorial(2)==2)\n",
    "  assert(factorial(0)==1)\n",
    "  assert(factorial(-3)==(-6))\n",
    "\n",
    "  def main(args: Array[String]): Unit = {\n",
    "\n",
    "    val n:Int = -3\n",
    "    println(\"Fact>\"+factorial(n))\n",
    "  }\n",
    "  def factorial(n:Int):Int = {\n",
    "    if(n==0){       //testing edge cases\n",
    "      return 1\n",
    "    }\n",
    "\n",
    "    var arr:Array[Int] = (1 to Math.abs(n)).toArray\n",
    "\n",
    "    if(n<0){        //if the number is negative return the negative result\n",
    "      return -arr.reduceLeft(_*_)\n",
    "    }\n",
    "    arr.reduceLeft(_*_)\n",
    "    //arr.product can also be used\n",
    "  }//end of def\n",
    "}\n"
   ]
  },
  {
   "cell_type": "code",
   "execution_count": 12,
   "metadata": {},
   "outputs": [
    {
     "data": {
      "text/plain": [
       "\u001b[36mres11\u001b[39m: \u001b[32mInt\u001b[39m = \u001b[32m6\u001b[39m"
      ]
     },
     "execution_count": 12,
     "metadata": {},
     "output_type": "execute_result"
    }
   ],
   "source": [
    "Problem_23.factorial(3)"
   ]
  },
  {
   "cell_type": "code",
   "execution_count": 13,
   "metadata": {},
   "outputs": [
    {
     "data": {
      "text/plain": [
       "defined \u001b[32mobject\u001b[39m \u001b[36mProblem_24\u001b[39m"
      ]
     },
     "execution_count": 13,
     "metadata": {},
     "output_type": "execute_result"
    }
   ],
   "source": [
    "/*Write a function that receives a collection of strings and a map from strings to integers. Return\n",
    "a collection of integers that are values of the map corresponding to one of the strings\n",
    "  in the collection. For example, given Array(\"Tom\", \"Fred\", \"Harry\") and Map(\"Tom\" -> 3,\n",
    "  \"Dick\" -> 4, \"Harry\" -> 5), return Array(3, 5).\n",
    "*/\n",
    "\n",
    "object Problem_24 {\n",
    "\n",
    "  //test cases\n",
    "  assert(findTrueValues(\n",
    "    Array(\"A\",\"B\",\"C\",\"D\"),\n",
    "    Map(\"A\"->1, \"B\"->2, \"D\"->4))\n",
    "    sameElements  Array(1,2,4) )\n",
    "\n",
    "  assert(findTrueValues(\n",
    "    Array(),\n",
    "    Map())\n",
    "    sameElements  Array(-1) )\n",
    "\n",
    "    assert(findTrueValues(\n",
    "    Array(\"X\",\"Y\",\"Z\"),\n",
    "    Map(\"A\"->1))\n",
    "    sameElements  Array[Int]() )\n",
    "\n",
    "  def main(args: Array[String]): Unit = {\n",
    "\n",
    "    var myMap:Map[String,Int] = Map(\"Tom\" -> 3,\"Dick\" -> 4, \"Harry\" -> 5)\n",
    "    var myArr:Array[String] = Array(\"Tom\", \"Fred\", \"Harry\")\n",
    "\n",
    "    var resultArr:Array[Int] = findTrueValues(myArr,myMap)\n",
    "    println(resultArr.mkString(\"<\",\" | \",\">\"))\n",
    "  }\n",
    "\n",
    "  def findTrueValues(myArr:Array[String], myMap:Map[String,Int]): Array[Int] ={\n",
    "\n",
    "    if(myArr.size ==0 || myMap.size == 0){    //checking edge conditions\n",
    "      return Array(-1)\n",
    "    }\n",
    "\n",
    "    myArr.flatMap(myMap.get(_))\n",
    "  }\n",
    "}//end\n"
   ]
  },
  {
   "cell_type": "code",
   "execution_count": 14,
   "metadata": {},
   "outputs": [
    {
     "data": {
      "text/plain": [
       "\u001b[36mres13\u001b[39m: \u001b[32mArray\u001b[39m[\u001b[32mInt\u001b[39m] = \u001b[33mArray\u001b[39m(\u001b[32m3\u001b[39m, \u001b[32m5\u001b[39m)"
      ]
     },
     "execution_count": 14,
     "metadata": {},
     "output_type": "execute_result"
    }
   ],
   "source": [
    "Problem_24.findTrueValues(\n",
    "    Array(\"Tom\", \"Fred\", \"Harry\"),\n",
    "    Map(\"Tom\" -> 3,\"Dick\" -> 4, \"Harry\" -> 5))"
   ]
  },
  {
   "cell_type": "code",
   "execution_count": 19,
   "metadata": {},
   "outputs": [
    {
     "data": {
      "text/plain": [
       "defined \u001b[32mobject\u001b[39m \u001b[36mProblem_25\u001b[39m"
      ]
     },
     "execution_count": 19,
     "metadata": {},
     "output_type": "execute_result"
    }
   ],
   "source": [
    "/*\n",
    "* 5. Implement a function sampleNoRepeats with two arguments. The first argument is a range,\n",
    "the second an integer, n, greater that zero. The function returns n random numbers in the\n",
    "given range with no repeats.\n",
    "*\n",
    "* */\n",
    "\n",
    "object Problem_25 {\n",
    "  //test cases\n",
    "  \n",
    "     println(\"Assert checking..\")\n",
    "   assert(sampleNoRepeats(0,0) sameElements  Array(-1) )\n",
    "    \n",
    "  def sampleNoRepeats(range:Int, n:Int):Array[Int]={\n",
    "    //if the range is less than n, it can't provide n unique random numbers\n",
    "    if(range<n){\n",
    "      println(\"Error! Range is less than n! Can't get unique random numbers \")\n",
    "    }\n",
    "\n",
    "    else if(range <=0 || n <=0){\n",
    "     println(\"Error! range or n <= 0\")\n",
    "      return Array(-1)\n",
    "    }\n",
    "\n",
    "    val r = scala.util.Random\n",
    "    var temp:Int = 0\n",
    "    var s:Set[Int] = Set()\n",
    "\n",
    "    var i:Int = 0\n",
    "    while(i<n){\n",
    "        temp = r.nextInt(range)   //random number will be checked whether it is already in the set or not\n",
    "        if(!s.contains(temp)){    //if the random number is not in the set\n",
    "          s=s+temp;               //random number is added in the set\n",
    "          i+=1\n",
    "        }\n",
    "      }\n",
    "    s.toArray                      //set to array\n",
    "  }\n",
    "\n",
    "  def main(args: Array[String]): Unit = {\n",
    "    var range:Int = 10\n",
    "    var n:Int = 5\n",
    "    var randomArr:Array[Int] = sampleNoRepeats(range,n) //range and n\n",
    "    println(\">>\"+randomArr.mkString(\"\",\", \",\"\"))\n",
    "  }//end of def\n",
    "}//end of main"
   ]
  },
  {
   "cell_type": "code",
   "execution_count": 20,
   "metadata": {},
   "outputs": [
    {
     "name": "stdout",
     "output_type": "stream",
     "text": [
      "Assert checking..\n",
      "Error! range or n <= 0\n"
     ]
    },
    {
     "data": {
      "text/plain": [
       "\u001b[36mres19\u001b[39m: \u001b[32mArray\u001b[39m[\u001b[32mInt\u001b[39m] = \u001b[33mArray\u001b[39m(\u001b[32m0\u001b[39m, \u001b[32m5\u001b[39m, \u001b[32m6\u001b[39m, \u001b[32m2\u001b[39m, \u001b[32m7\u001b[39m)"
      ]
     },
     "execution_count": 20,
     "metadata": {},
     "output_type": "execute_result"
    }
   ],
   "source": [
    "Problem_25.sampleNoRepeats(10,5)"
   ]
  },
  {
   "cell_type": "code",
   "execution_count": 21,
   "metadata": {},
   "outputs": [
    {
     "data": {
      "text/plain": [
       "defined \u001b[32mobject\u001b[39m \u001b[36mProblem_26\u001b[39m"
      ]
     },
     "execution_count": 21,
     "metadata": {},
     "output_type": "execute_result"
    }
   ],
   "source": [
    "  /*\n",
    "  *\n",
    "  *   * 6. Create an array with random 100,000 integers between 0 and 50,000. Compute the mean\n",
    "  value of the array, call it M. Take a random sample of 100 different elements (sampling\n",
    "  without replacement) of the array and compute the mean of the sample. What is the error?\n",
    "  *\n",
    "  * */\n",
    "\n",
    "  object Problem_26 {\n",
    "\n",
    "    def sampleNoRepeats(range:Int, n:Int):Array[Int]={\n",
    "      //if the range is less than n, it can't provide n unique random numbers\n",
    "\n",
    "      if(range <= 0 || n <=0){\n",
    "        println(\"Error! range or n <= 0\")\n",
    "        return Array(-1)\n",
    "      }\n",
    "\n",
    "      else if(range<n){\n",
    "        println(\"Error! range < n\")\n",
    "        return Array(-1)\n",
    "      }\n",
    "\n",
    "      val r = scala.util.Random\n",
    "      var temp:Int = 0\n",
    "      var s:Set[Int] = Set()\n",
    "\n",
    "      var i:Int = 0\n",
    "      while(i<n){\n",
    "        temp = r.nextInt(range)   //random number will be checked whether it is already in the set or not\n",
    "        if(!s.contains(temp)){    //if the random number is not in the set\n",
    "          s=s+temp;               //random number is added in the set\n",
    "          i+=1\n",
    "        }\n",
    "      }\n",
    "      s.toArray                      //set to array\n",
    "    }\n",
    "\n",
    "    def solution(): Unit ={\n",
    "      val n:Int = 100000\n",
    "      val range:Int = 50000\n",
    "      val sampleSize:Int = 100\n",
    "\n",
    "      /*  val n:Int = 10\n",
    "          val range:Int = 50\n",
    "          val sampleSize:Int = 3*/\n",
    "\n",
    "      var r = scala.util.Random\n",
    "      var randomArr:Array[Int] =  new Array[Int](n.toInt)\n",
    "      var sampleArr:Array[Int] =  new Array[Int](sampleSize)\n",
    "\n",
    "      //array with random 100,000 integers between 0 and 50,000 created!\n",
    "      for(i<-0 until n.toInt){\n",
    "        randomArr(i) = r.nextInt(range)\n",
    "      }\n",
    "\n",
    "      //Compute the mean value of the randomArr\n",
    "      var randomSum:Float= 0\n",
    "      for(i <- randomArr.indices){\n",
    "        randomSum += randomArr(i)\n",
    "      }\n",
    "\n",
    "      val M:Float= randomSum / n.toInt\n",
    "      println(\"Original Mean: \"+M)\n",
    "\n",
    "      //Take a random sample of 100 different elements (sampling without replacement) of the array.\n",
    "      val sampleIndex = sampleNoRepeats(n.toInt,sampleSize)\n",
    "\n",
    "      for(i<-0 until sampleSize){\n",
    "        sampleArr(i) = randomArr(sampleIndex(i))\n",
    "      }\n",
    "\n",
    "      //and compute the mean of the sample\n",
    "      val sampleMean:Int = sampleArr.sum/sampleSize\n",
    "\n",
    "      //println(\">>sample Arr: \"+sampleArr.mkString(\"\",\" \",\"\"))\n",
    "      println(\"Sample Mean: \"+sampleMean)\n",
    "\n",
    "      //error is:\n",
    "      val error:Float = 100*Math.abs((M - sampleMean)/sampleMean)\n",
    "      println(\"Error: \"+error+\"%\")\n",
    "    }\n",
    "\n",
    "    def main(args: Array[String]): Unit = {\n",
    "      solution()\n",
    "    }//end of Main\n",
    "  }//end of Obj\n",
    "\n"
   ]
  },
  {
   "cell_type": "code",
   "execution_count": 22,
   "metadata": {},
   "outputs": [
    {
     "name": "stdout",
     "output_type": "stream",
     "text": [
      "Original Mean: 25027.56\n",
      "Sample Mean: 27508\n",
      "Error: 9.017157%\n"
     ]
    }
   ],
   "source": [
    "Problem_26.solution()"
   ]
  },
  {
   "cell_type": "code",
   "execution_count": 27,
   "metadata": {},
   "outputs": [
    {
     "data": {
      "text/plain": [
       "defined \u001b[32mobject\u001b[39m \u001b[36mProblem_27\u001b[39m"
      ]
     },
     "execution_count": 27,
     "metadata": {},
     "output_type": "execute_result"
    }
   ],
   "source": [
    "/*\n",
    "*\n",
    "*   7. Using the same array as in #6 take 1,000 samples of 100 random elements of the array.\n",
    "Compute the mean of each sample. Find the value r where interval (M-r, M+r) contains 95%\n",
    "of the means of the 1000 samples.\n",
    "*\n",
    "* */\n",
    "\n",
    "object Problem_27{\n",
    "\n",
    "  def square(x:Double):Double = x*x\n",
    "\n",
    "  def sampleNoRepeats(range:Int, n:Int):Array[Int]={\n",
    "    //if the range is less than n, it can't provide n unique random numbers\n",
    "    if(range<n){\n",
    "      System.exit(0)\n",
    "    }\n",
    "\n",
    "    val r = scala.util.Random\n",
    "    var temp:Int = 0\n",
    "    var s:Set[Int] = Set()\n",
    "\n",
    "    var i:Int = 0\n",
    "    while(i<n){\n",
    "      temp = r.nextInt(range)   //random number will be checked whether it is already in the set or not\n",
    "      if(!s.contains(temp)){    //if the random number is not in the set\n",
    "        s=s+temp;               //random number is added in the set\n",
    "        i+=1\n",
    "      }\n",
    "    }\n",
    "    s.toArray                      //set to array\n",
    "  }\n",
    "\n",
    "  def findR():Double={\n",
    "    val n:Int = 100000\n",
    "    val range:Int = 50000\n",
    "    val sampleElementSize:Int = 100\n",
    "    val numberOfSamples:Int = 1000\n",
    "    val z: Double = 1.96\n",
    "\n",
    "\n",
    "    /*val n: Int = 10\n",
    "    val range: Int = 50\n",
    "    val sampleElementSize: Int = 3\n",
    "    val numberOfSamples: Int = 10\n",
    "    val z: Double = 1.96*/\n",
    "\n",
    "    var rand = scala.util.Random\n",
    "    var randomArr: Array[Int] = new Array[Int](n.toInt)\n",
    "    var sampleArr: Array[Int] = new Array[Int](sampleElementSize)\n",
    "\n",
    "    //array with random 100,000 integers between 0 and 50,000 created!\n",
    "    for (i <- 0 until n.toInt) {\n",
    "      randomArr(i) = rand.nextInt(range)\n",
    "    }\n",
    "\n",
    "    //Compute the mean value of the randomArr\n",
    "    var randomSum: Float = 0\n",
    "    for (i <- randomArr.indices) {\n",
    "      randomSum += randomArr(i)\n",
    "    }\n",
    "\n",
    "    val M: Float = randomSum / n\n",
    "\n",
    "    //println(\">>Random Arr: \"+randomArr.mkString(\"\",\" \",\"\"))\n",
    "    println(\"True Mean: \" + M)\n",
    "\n",
    "    var sampleMeanArr: Array[Double] = new Array[Double](numberOfSamples)\n",
    "\n",
    "    for (j <- 0 until numberOfSamples) {\n",
    "\n",
    "      //Take a random sample of 100 different elements (sampling without replacement) of the array.\n",
    "      val sampleIndex:Array[Int] = sampleNoRepeats(n.toInt, sampleElementSize)\n",
    "\n",
    "      for (i <- 0 until sampleElementSize) {\n",
    "        sampleArr(i) = randomArr(sampleIndex(i))\n",
    "      }\n",
    "      //and compute the mean of the sample\n",
    "      val sampleMean: Float = sampleArr.sum / sampleElementSize\n",
    "\n",
    "      //println(\">>sample Arr: \"+sampleArr.mkString(\"\",\" \",\"\"))\n",
    "      //println(\"Sample Mean: \" + sampleMean)\n",
    "      sampleMeanArr(j) = sampleMean\n",
    "\n",
    "      //Find the value r where interval (M-r, M+r) contains 95% of the means of the 1000 samples\n",
    "      //r = z*s/sqrt(n)\n",
    "    }\n",
    "\n",
    "    //trial var sampleMeanArr: Array[Int] =  Array(0,10,20,30,40)\n",
    "    val sampleMeanArrMean: Double = sampleMeanArr.sum / sampleMeanArr.length\n",
    "\n",
    "    var xMinusXBarSquareArr: Array[Double] = new Array[Double](sampleMeanArr.length)\n",
    "\n",
    "    for (i <- sampleMeanArr.indices) {\n",
    "      xMinusXBarSquareArr(i) = square(Math.abs(sampleMeanArr(i) - sampleMeanArrMean))\n",
    "    }\n",
    "\n",
    "    var SD: Double = Math.sqrt(xMinusXBarSquareArr.sum / xMinusXBarSquareArr.length)\n",
    "\n",
    "    var r: Double = z * SD / Math.sqrt(sampleMeanArr.length)\n",
    "    println(\"sampleMeanArr.sum:  \" + sampleMeanArr.sum + \"| sampleMeanArr.length:  \" + sampleMeanArr.length)\n",
    "    println(\"xMinusXBarSquare.sum: \"+xMinusXBarSquareArr.sum +\" | SD: \"+SD)\n",
    "    println(\"sampleMeanArrMean: \" + sampleMeanArrMean)\n",
    "\n",
    "    //extra\n",
    "    val minInterval = sampleMeanArrMean - r\n",
    "    val maxInterval = sampleMeanArrMean + r\n",
    "\n",
    "    val minValue = sampleMeanArr.min\n",
    "    val maxValue = sampleMeanArr.max\n",
    "\n",
    "    println(\"minVal: \" + minValue + \" | maxVal: \" + maxValue)\n",
    "    println(\"minInterval is: \" + minInterval + \" | maxInterval: \" + maxInterval)\n",
    "\n",
    "    println(\"<minInterval: \" + sampleMeanArr.count(_ < minInterval) + \" | >maxInterval: \" + sampleMeanArr.count(_ > maxInterval))\n",
    "    println(\"=total: outsiders: \" + (sampleMeanArr.count(_ < minInterval) + sampleMeanArr.count(_ > maxInterval)) + \" out of \" + sampleMeanArr.length)\n",
    "\n",
    "    println(\"Value of r = \"+r)\n",
    "    \n",
    "    r\n",
    "  }//end of findR\n",
    "\n",
    "  def main(args: Array[String]): Unit = {\n",
    "    println(\"Value of r is: \"+findR())\n",
    "  }//end of Main\n",
    "}//end of Obj"
   ]
  },
  {
   "cell_type": "code",
   "execution_count": 28,
   "metadata": {},
   "outputs": [
    {
     "name": "stdout",
     "output_type": "stream",
     "text": [
      "True Mean: 25022.045\n",
      "sampleMeanArr.sum:  2.5071456E7| sampleMeanArr.length:  1000\n",
      "xMinusXBarSquare.sum: 2.120825102063998E9 | SD: 1456.305291504497\n",
      "sampleMeanArrMean: 25071.456\n",
      "minVal: 20880.0 | maxVal: 28964.0\n",
      "minInterval is: 24981.19326288169 | maxInterval: 25161.718737118306\n",
      "<minInterval: 473 | >maxInterval: 477\n",
      "=total: outsiders: 950 out of 1000\n",
      "Value of r = 90.26273711830954\n"
     ]
    },
    {
     "data": {
      "text/plain": [
       "\u001b[36mres27\u001b[39m: \u001b[32mDouble\u001b[39m = \u001b[32m90.26273711830954\u001b[39m"
      ]
     },
     "execution_count": 28,
     "metadata": {},
     "output_type": "execute_result"
    }
   ],
   "source": [
    "Problem_27.findR()"
   ]
  },
  {
   "cell_type": "code",
   "execution_count": 30,
   "metadata": {},
   "outputs": [
    {
     "data": {
      "text/plain": [
       "defined \u001b[32mobject\u001b[39m \u001b[36mProblem_28\u001b[39m"
      ]
     },
     "execution_count": 30,
     "metadata": {},
     "output_type": "execute_result"
    }
   ],
   "source": [
    "  /*\n",
    "*\n",
    "8. Repeat #7 but use the sample size of 1,000 rather than 100.\n",
    "*\n",
    "* */\n",
    "\n",
    "  object Problem_28{\n",
    "\n",
    "    def square(x:Double):Double = x*x\n",
    "\n",
    "    def sampleNoRepeats(range:Int, n:Int):Array[Int]={\n",
    "      //if the range is less than n, it can't provide n unique random numbers\n",
    "      if(range<n){\n",
    "        System.exit(0)\n",
    "      }\n",
    "\n",
    "      val r = scala.util.Random\n",
    "      var temp:Int = 0\n",
    "      var s:Set[Int] = Set()\n",
    "\n",
    "      var i:Int = 0\n",
    "      while(i<n){\n",
    "        temp = r.nextInt(range)   //random number will be checked whether it is already in the set or not\n",
    "        if(!s.contains(temp)){    //if the random number is not in the set\n",
    "          s=s+temp;               //random number is added in the set\n",
    "          i+=1\n",
    "        }\n",
    "      }\n",
    "      s.toArray                      //set to array\n",
    "    }\n",
    "\n",
    "    def findR():Double={\n",
    "      val n:Int = 100000\n",
    "      val range:Int = 50000\n",
    "      val sampleElementSize:Int = 1000    //changed\n",
    "      val numberOfSamples:Int = 1000\n",
    "      val z: Double = 1.96\n",
    "\n",
    "\n",
    "      /*val n: Int = 10\n",
    "      val range: Int = 50\n",
    "      val sampleElementSize: Int = 3\n",
    "      val numberOfSamples: Int = 10\n",
    "      val z: Double = 1.96*/\n",
    "\n",
    "      var rand = scala.util.Random\n",
    "      var randomArr: Array[Int] = new Array[Int](n.toInt)\n",
    "      var sampleArr: Array[Int] = new Array[Int](sampleElementSize)\n",
    "\n",
    "      //array with random 100,000 integers between 0 and 50,000 created!\n",
    "      for (i <- 0 until n.toInt) {\n",
    "        randomArr(i) = rand.nextInt(range)\n",
    "      }\n",
    "\n",
    "      //Compute the mean value of the randomArr\n",
    "      var randomSum: Float = 0\n",
    "      for (i <- randomArr.indices) {\n",
    "        randomSum += randomArr(i)\n",
    "      }\n",
    "\n",
    "      val M: Float = randomSum / n\n",
    "\n",
    "      //println(\">>Random Arr: \"+randomArr.mkString(\"\",\" \",\"\"))\n",
    "      println(\"True Mean: \" + M)\n",
    "\n",
    "      var sampleMeanArr: Array[Double] = new Array[Double](numberOfSamples)\n",
    "\n",
    "      for (j <- 0 until numberOfSamples) {\n",
    "\n",
    "        //Take a random sample of 100 different elements (sampling without replacement) of the array.\n",
    "        val sampleIndex:Array[Int] = sampleNoRepeats(n.toInt, sampleElementSize)\n",
    "\n",
    "        for (i <- 0 until sampleElementSize) {\n",
    "          sampleArr(i) = randomArr(sampleIndex(i))\n",
    "        }\n",
    "        //and compute the mean of the sample\n",
    "        val sampleMean: Float = sampleArr.sum / sampleElementSize\n",
    "\n",
    "        //println(\">>sample Arr: \"+sampleArr.mkString(\"\",\" \",\"\"))\n",
    "        //println(\"Sample Mean: \" + sampleMean)\n",
    "        sampleMeanArr(j) = sampleMean\n",
    "\n",
    "        //Find the value r where interval (M-r, M+r) contains 95% of the means of the 1000 samples\n",
    "        //r = z*s/sqrt(n)\n",
    "      }\n",
    "\n",
    "      //trial var sampleMeanArr: Array[Int] =  Array(0,10,20,30,40)\n",
    "\n",
    "      val sampleMeanArrMean: Double = sampleMeanArr.sum / sampleMeanArr.length\n",
    "\n",
    "      //new\n",
    "      var xMinusXBarSquareArr: Array[Double] = new Array[Double](sampleMeanArr.length)\n",
    "\n",
    "      for (i <- sampleMeanArr.indices) {\n",
    "        xMinusXBarSquareArr(i) = square(Math.abs(sampleMeanArr(i) - sampleMeanArrMean))\n",
    "      }\n",
    "\n",
    "      var SD: Double = Math.sqrt(xMinusXBarSquareArr.sum / xMinusXBarSquareArr.length)\n",
    "\n",
    "      var r: Double = z * SD / Math.sqrt(sampleMeanArr.length)\n",
    "      println(\"sampleMeanArr.sum:  \" + sampleMeanArr.sum + \"| sampleMeanArr.length:  \" + sampleMeanArr.length)\n",
    "      println(\"xMinusXBarSquare.sum: \"+xMinusXBarSquareArr.sum +\" | SD: \"+SD)\n",
    "      println(\"sampleMeanArrMean: \" + sampleMeanArrMean + \"  | r is: \" + r)\n",
    "\n",
    "      //extra\n",
    "      val minInterval = sampleMeanArrMean - r\n",
    "      val maxInterval = sampleMeanArrMean + r\n",
    "\n",
    "      val minValue = sampleMeanArr.min\n",
    "      val maxValue = sampleMeanArr.max\n",
    "\n",
    "      println(\"minVal: \" + minValue + \" | maxVal: \" + maxValue)\n",
    "      println(\"minInterval is: \" + minInterval + \" | maxInterval: \" + maxInterval)\n",
    "\n",
    "      println(\"<minInterval: \" + sampleMeanArr.count(_ < minInterval) + \" | >maxInterval: \" + sampleMeanArr.count(_ > maxInterval))\n",
    "      println(\"=total: outsiders: \" + (sampleMeanArr.count(_ < minInterval) + sampleMeanArr.count(_ > maxInterval)) + \" out of \" + sampleMeanArr.length)\n",
    "\n",
    "      println(\"Value of r is: \"+r)\n",
    "      r\n",
    "    }//end of findR\n",
    "\n",
    "    def main(args: Array[String]): Unit = {\n",
    "      println(\"Value of r is: \"+findR())\n",
    "    }//end of Main\n",
    "  }//end of Obj\n"
   ]
  },
  {
   "cell_type": "code",
   "execution_count": 31,
   "metadata": {},
   "outputs": [
    {
     "name": "stdout",
     "output_type": "stream",
     "text": [
      "True Mean: 24968.377\n",
      "sampleMeanArr.sum:  2.4981066E7| sampleMeanArr.length:  1000\n",
      "xMinusXBarSquare.sum: 2.0136143364400002E8 | SD: 448.7331430193228\n",
      "sampleMeanArrMean: 24981.066  | r is: 27.81276835352408\n",
      "minVal: 23585.0 | maxVal: 26267.0\n",
      "minInterval is: 24953.253231646475 | maxInterval: 25008.878768353523\n",
      "<minInterval: 483 | >maxInterval: 474\n",
      "=total: outsiders: 957 out of 1000\n",
      "Value of r is: 27.81276835352408\n"
     ]
    },
    {
     "data": {
      "text/plain": [
       "\u001b[36mres30\u001b[39m: \u001b[32mDouble\u001b[39m = \u001b[32m27.81276835352408\u001b[39m"
      ]
     },
     "execution_count": 31,
     "metadata": {},
     "output_type": "execute_result"
    }
   ],
   "source": [
    "Problem_28.findR()"
   ]
  },
  {
   "cell_type": "code",
   "execution_count": 32,
   "metadata": {},
   "outputs": [
    {
     "data": {
      "text/plain": [
       "defined \u001b[32mobject\u001b[39m \u001b[36mProblem_29\u001b[39m"
      ]
     },
     "execution_count": 32,
     "metadata": {},
     "output_type": "execute_result"
    }
   ],
   "source": [
    "/*\n",
    "*\n",
    "9. Repeat #7 but use the sample size of 10,000 rather than 100.\n",
    "*\n",
    "* */\n",
    "\n",
    "object Problem_29{\n",
    "\n",
    "  def square(x:Double):Double = x*x\n",
    "\n",
    "  def sampleNoRepeats(range:Int, n:Int):Array[Int]={\n",
    "    //if the range is less than n, it can't provide n unique random numbers\n",
    "    if(range<n){\n",
    "      System.exit(0)\n",
    "    }\n",
    "\n",
    "    val r = scala.util.Random\n",
    "    var temp:Int = 0\n",
    "    var s:Set[Int] = Set()\n",
    "\n",
    "    var i:Int = 0\n",
    "    while(i<n){\n",
    "      temp = r.nextInt(range)   //random number will be checked whether it is already in the set or not\n",
    "      if(!s.contains(temp)){    //if the random number is not in the set\n",
    "        s=s+temp;               //random number is added in the set\n",
    "        i+=1\n",
    "      }\n",
    "    }\n",
    "    s.toArray                      //set to array\n",
    "  }\n",
    "\n",
    "  def findR():Double={\n",
    "    val n:Int = 100000\n",
    "    val range:Int = 50000\n",
    "    val sampleElementSize:Int = 10000   //changed\n",
    "    val numberOfSamples:Int = 1000\n",
    "    val z: Double = 1.96\n",
    "\n",
    "\n",
    "    /*val n: Int = 10\n",
    "    val range: Int = 50\n",
    "    val sampleElementSize: Int = 3\n",
    "    val numberOfSamples: Int = 10\n",
    "    val z: Double = 1.96*/\n",
    "\n",
    "    var rand = scala.util.Random\n",
    "    var randomArr: Array[Int] = new Array[Int](n.toInt)\n",
    "    var sampleArr: Array[Int] = new Array[Int](sampleElementSize)\n",
    "\n",
    "    //array with random 100,000 integers between 0 and 50,000 created!\n",
    "    for (i <- 0 until n.toInt) {\n",
    "      randomArr(i) = rand.nextInt(range)\n",
    "    }\n",
    "\n",
    "    //Compute the mean value of the randomArr\n",
    "    var randomSum: Float = 0\n",
    "    for (i <- randomArr.indices) {\n",
    "      randomSum += randomArr(i)\n",
    "    }\n",
    "\n",
    "    val M: Float = randomSum / n\n",
    "\n",
    "    //println(\">>Random Arr: \"+randomArr.mkString(\"\",\" \",\"\"))\n",
    "    println(\"True Mean: \" + M)\n",
    "\n",
    "    var sampleMeanArr: Array[Double] = new Array[Double](numberOfSamples)\n",
    "\n",
    "    for (j <- 0 until numberOfSamples) {\n",
    "\n",
    "      //Take a random sample of 100 different elements (sampling without replacement) of the array.\n",
    "      val sampleIndex:Array[Int] = sampleNoRepeats(n.toInt, sampleElementSize)\n",
    "\n",
    "      for (i <- 0 until sampleElementSize) {\n",
    "        sampleArr(i) = randomArr(sampleIndex(i))\n",
    "      }\n",
    "      //and compute the mean of the sample\n",
    "      val sampleMean: Float = sampleArr.sum / sampleElementSize\n",
    "\n",
    "      //println(\">>sample Arr: \"+sampleArr.mkString(\"\",\" \",\"\"))\n",
    "      //println(\"Sample Mean: \" + sampleMean)\n",
    "      sampleMeanArr(j) = sampleMean\n",
    "\n",
    "      //Find the value r where interval (M-r, M+r) contains 95% of the means of the 1000 samples\n",
    "      //r = z*s/sqrt(n)\n",
    "    }\n",
    "\n",
    "    //trial var sampleMeanArr: Array[Int] =  Array(0,10,20,30,40)\n",
    "\n",
    "    val sampleMeanArrMean: Double = sampleMeanArr.sum / sampleMeanArr.length\n",
    "\n",
    "    //new\n",
    "    var xMinusXBarSquareArr: Array[Double] = new Array[Double](sampleMeanArr.length)\n",
    "\n",
    "    for (i <- sampleMeanArr.indices) {\n",
    "      xMinusXBarSquareArr(i) = square(Math.abs(sampleMeanArr(i) - sampleMeanArrMean))\n",
    "    }\n",
    "\n",
    "    var SD: Double = Math.sqrt(xMinusXBarSquareArr.sum / xMinusXBarSquareArr.length)\n",
    "\n",
    "    var r: Double = z * SD / Math.sqrt(sampleMeanArr.length)\n",
    "    println(\"sampleMeanArr.sum:  \" + sampleMeanArr.sum + \"| sampleMeanArr.length:  \" + sampleMeanArr.length)\n",
    "    println(\"xMinusXBarSquare.sum: \"+xMinusXBarSquareArr.sum +\" | SD: \"+SD)\n",
    "    println(\"sampleMeanArrMean: \" + sampleMeanArrMean + \"  | r is: \" + r)\n",
    "\n",
    "    //extra\n",
    "    val minInterval = sampleMeanArrMean - r\n",
    "    val maxInterval = sampleMeanArrMean + r\n",
    "\n",
    "    val minValue = sampleMeanArr.min\n",
    "    val maxValue = sampleMeanArr.max\n",
    "\n",
    "    println(\"minVal: \" + minValue + \" | maxVal: \" + maxValue)\n",
    "    println(\"minInterval is: \" + minInterval + \" | maxInterval: \" + maxInterval)\n",
    "\n",
    "    println(\"<minInterval: \" + sampleMeanArr.count(_ < minInterval) + \" | >maxInterval: \" + sampleMeanArr.count(_ > maxInterval))\n",
    "    println(\"=total: outsiders: \" + (sampleMeanArr.count(_ < minInterval) + sampleMeanArr.count(_ > maxInterval)) + \" out of \" + sampleMeanArr.length)\n",
    "\n",
    "    println(\"Value of r is: \"+r)\n",
    "    r\n",
    "  }//end of findR\n",
    "\n",
    "  def main(args: Array[String]): Unit = {\n",
    "    println(\"Value of r is: \"+findR())\n",
    "  }//end of Main\n",
    "}//end of Obj\n"
   ]
  },
  {
   "cell_type": "code",
   "execution_count": 33,
   "metadata": {},
   "outputs": [
    {
     "name": "stdout",
     "output_type": "stream",
     "text": [
      "True Mean: 25014.16\n",
      "sampleMeanArr.sum:  2.5019489E7| sampleMeanArr.length:  1000\n",
      "xMinusXBarSquare.sum: 1.8509219878999986E7 | SD: 136.04859381485716\n",
      "sampleMeanArrMean: 25019.489  | r is: 8.432379206793676\n",
      "minVal: 24503.0 | maxVal: 25407.0\n",
      "minInterval is: 25011.056620793206 | maxInterval: 25027.921379206797\n",
      "<minInterval: 461 | >maxInterval: 478\n",
      "=total: outsiders: 939 out of 1000\n",
      "Value of r is: 8.432379206793676\n"
     ]
    },
    {
     "data": {
      "text/plain": [
       "\u001b[36mres32\u001b[39m: \u001b[32mDouble\u001b[39m = \u001b[32m8.432379206793676\u001b[39m"
      ]
     },
     "execution_count": 33,
     "metadata": {},
     "output_type": "execute_result"
    }
   ],
   "source": [
    "Problem_29.findR()"
   ]
  },
  {
   "cell_type": "code",
   "execution_count": null,
   "metadata": {
    "collapsed": true
   },
   "outputs": [],
   "source": []
  }
 ],
 "metadata": {
  "kernelspec": {
   "display_name": "Scala (develop)",
   "language": "scala",
   "name": "scala-develop"
  },
  "language_info": {
   "codemirror_mode": "text/x-scala",
   "file_extension": ".scala",
   "mimetype": "text/x-scala",
   "name": "scala211",
   "nbconvert_exporter": "script",
   "pygments_lexer": "scala",
   "version": "2.11.11"
  }
 },
 "nbformat": 4,
 "nbformat_minor": 2
}
